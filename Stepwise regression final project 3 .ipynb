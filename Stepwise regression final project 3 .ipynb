{
 "cells": [
  {
   "cell_type": "code",
   "execution_count": 1,
   "id": "025d205f",
   "metadata": {},
   "outputs": [],
   "source": [
    "wine <- read.csv(\"/Users/phoebemoore/Desktop/winequality-red.csv\")"
   ]
  },
  {
   "cell_type": "code",
   "execution_count": 2,
   "id": "e2a1ab14",
   "metadata": {},
   "outputs": [
    {
     "data": {
      "text/html": [
       "<table class=\"dataframe\">\n",
       "<caption>A data.frame: 6 × 12</caption>\n",
       "<thead>\n",
       "\t<tr><th></th><th scope=col>fixed.acidity</th><th scope=col>volatile.acidity</th><th scope=col>citric.acid</th><th scope=col>residual.sugar</th><th scope=col>chlorides</th><th scope=col>free.sulfur.dioxide</th><th scope=col>total.sulfur.dioxide</th><th scope=col>density</th><th scope=col>pH</th><th scope=col>sulphates</th><th scope=col>alcohol</th><th scope=col>quality</th></tr>\n",
       "\t<tr><th></th><th scope=col>&lt;dbl&gt;</th><th scope=col>&lt;dbl&gt;</th><th scope=col>&lt;dbl&gt;</th><th scope=col>&lt;dbl&gt;</th><th scope=col>&lt;dbl&gt;</th><th scope=col>&lt;dbl&gt;</th><th scope=col>&lt;dbl&gt;</th><th scope=col>&lt;dbl&gt;</th><th scope=col>&lt;dbl&gt;</th><th scope=col>&lt;dbl&gt;</th><th scope=col>&lt;dbl&gt;</th><th scope=col>&lt;int&gt;</th></tr>\n",
       "</thead>\n",
       "<tbody>\n",
       "\t<tr><th scope=row>1</th><td> 7.4</td><td>0.70</td><td>0.00</td><td>1.9</td><td>0.076</td><td>11</td><td>34</td><td>0.9978</td><td>3.51</td><td>0.56</td><td>9.4</td><td>5</td></tr>\n",
       "\t<tr><th scope=row>2</th><td> 7.8</td><td>0.88</td><td>0.00</td><td>2.6</td><td>0.098</td><td>25</td><td>67</td><td>0.9968</td><td>3.20</td><td>0.68</td><td>9.8</td><td>5</td></tr>\n",
       "\t<tr><th scope=row>3</th><td> 7.8</td><td>0.76</td><td>0.04</td><td>2.3</td><td>0.092</td><td>15</td><td>54</td><td>0.9970</td><td>3.26</td><td>0.65</td><td>9.8</td><td>5</td></tr>\n",
       "\t<tr><th scope=row>4</th><td>11.2</td><td>0.28</td><td>0.56</td><td>1.9</td><td>0.075</td><td>17</td><td>60</td><td>0.9980</td><td>3.16</td><td>0.58</td><td>9.8</td><td>6</td></tr>\n",
       "\t<tr><th scope=row>5</th><td> 7.4</td><td>0.70</td><td>0.00</td><td>1.9</td><td>0.076</td><td>11</td><td>34</td><td>0.9978</td><td>3.51</td><td>0.56</td><td>9.4</td><td>5</td></tr>\n",
       "\t<tr><th scope=row>6</th><td> 7.4</td><td>0.66</td><td>0.00</td><td>1.8</td><td>0.075</td><td>13</td><td>40</td><td>0.9978</td><td>3.51</td><td>0.56</td><td>9.4</td><td>5</td></tr>\n",
       "</tbody>\n",
       "</table>\n"
      ],
      "text/latex": [
       "A data.frame: 6 × 12\n",
       "\\begin{tabular}{r|llllllllllll}\n",
       "  & fixed.acidity & volatile.acidity & citric.acid & residual.sugar & chlorides & free.sulfur.dioxide & total.sulfur.dioxide & density & pH & sulphates & alcohol & quality\\\\\n",
       "  & <dbl> & <dbl> & <dbl> & <dbl> & <dbl> & <dbl> & <dbl> & <dbl> & <dbl> & <dbl> & <dbl> & <int>\\\\\n",
       "\\hline\n",
       "\t1 &  7.4 & 0.70 & 0.00 & 1.9 & 0.076 & 11 & 34 & 0.9978 & 3.51 & 0.56 & 9.4 & 5\\\\\n",
       "\t2 &  7.8 & 0.88 & 0.00 & 2.6 & 0.098 & 25 & 67 & 0.9968 & 3.20 & 0.68 & 9.8 & 5\\\\\n",
       "\t3 &  7.8 & 0.76 & 0.04 & 2.3 & 0.092 & 15 & 54 & 0.9970 & 3.26 & 0.65 & 9.8 & 5\\\\\n",
       "\t4 & 11.2 & 0.28 & 0.56 & 1.9 & 0.075 & 17 & 60 & 0.9980 & 3.16 & 0.58 & 9.8 & 6\\\\\n",
       "\t5 &  7.4 & 0.70 & 0.00 & 1.9 & 0.076 & 11 & 34 & 0.9978 & 3.51 & 0.56 & 9.4 & 5\\\\\n",
       "\t6 &  7.4 & 0.66 & 0.00 & 1.8 & 0.075 & 13 & 40 & 0.9978 & 3.51 & 0.56 & 9.4 & 5\\\\\n",
       "\\end{tabular}\n"
      ],
      "text/markdown": [
       "\n",
       "A data.frame: 6 × 12\n",
       "\n",
       "| <!--/--> | fixed.acidity &lt;dbl&gt; | volatile.acidity &lt;dbl&gt; | citric.acid &lt;dbl&gt; | residual.sugar &lt;dbl&gt; | chlorides &lt;dbl&gt; | free.sulfur.dioxide &lt;dbl&gt; | total.sulfur.dioxide &lt;dbl&gt; | density &lt;dbl&gt; | pH &lt;dbl&gt; | sulphates &lt;dbl&gt; | alcohol &lt;dbl&gt; | quality &lt;int&gt; |\n",
       "|---|---|---|---|---|---|---|---|---|---|---|---|---|\n",
       "| 1 |  7.4 | 0.70 | 0.00 | 1.9 | 0.076 | 11 | 34 | 0.9978 | 3.51 | 0.56 | 9.4 | 5 |\n",
       "| 2 |  7.8 | 0.88 | 0.00 | 2.6 | 0.098 | 25 | 67 | 0.9968 | 3.20 | 0.68 | 9.8 | 5 |\n",
       "| 3 |  7.8 | 0.76 | 0.04 | 2.3 | 0.092 | 15 | 54 | 0.9970 | 3.26 | 0.65 | 9.8 | 5 |\n",
       "| 4 | 11.2 | 0.28 | 0.56 | 1.9 | 0.075 | 17 | 60 | 0.9980 | 3.16 | 0.58 | 9.8 | 6 |\n",
       "| 5 |  7.4 | 0.70 | 0.00 | 1.9 | 0.076 | 11 | 34 | 0.9978 | 3.51 | 0.56 | 9.4 | 5 |\n",
       "| 6 |  7.4 | 0.66 | 0.00 | 1.8 | 0.075 | 13 | 40 | 0.9978 | 3.51 | 0.56 | 9.4 | 5 |\n",
       "\n"
      ],
      "text/plain": [
       "  fixed.acidity volatile.acidity citric.acid residual.sugar chlorides\n",
       "1  7.4          0.70             0.00        1.9            0.076    \n",
       "2  7.8          0.88             0.00        2.6            0.098    \n",
       "3  7.8          0.76             0.04        2.3            0.092    \n",
       "4 11.2          0.28             0.56        1.9            0.075    \n",
       "5  7.4          0.70             0.00        1.9            0.076    \n",
       "6  7.4          0.66             0.00        1.8            0.075    \n",
       "  free.sulfur.dioxide total.sulfur.dioxide density pH   sulphates alcohol\n",
       "1 11                  34                   0.9978  3.51 0.56      9.4    \n",
       "2 25                  67                   0.9968  3.20 0.68      9.8    \n",
       "3 15                  54                   0.9970  3.26 0.65      9.8    \n",
       "4 17                  60                   0.9980  3.16 0.58      9.8    \n",
       "5 11                  34                   0.9978  3.51 0.56      9.4    \n",
       "6 13                  40                   0.9978  3.51 0.56      9.4    \n",
       "  quality\n",
       "1 5      \n",
       "2 5      \n",
       "3 5      \n",
       "4 6      \n",
       "5 5      \n",
       "6 5      "
      ]
     },
     "metadata": {},
     "output_type": "display_data"
    }
   ],
   "source": [
    "head(wine)"
   ]
  },
  {
   "cell_type": "code",
   "execution_count": 3,
   "id": "a51c3169",
   "metadata": {},
   "outputs": [],
   "source": [
    "FitAll = lm (alcohol ~ fixed.acidity + volatile.acidity + citric.acid + residual.sugar + chlorides + free.sulfur.dioxide + total.sulfur.dioxide + density + pH + sulphates,data=wine)"
   ]
  },
  {
   "cell_type": "code",
   "execution_count": 4,
   "id": "0f8b7bbf",
   "metadata": {},
   "outputs": [
    {
     "data": {
      "text/plain": [
       "\n",
       "Call:\n",
       "lm(formula = alcohol ~ fixed.acidity + volatile.acidity + citric.acid + \n",
       "    residual.sugar + chlorides + free.sulfur.dioxide + total.sulfur.dioxide + \n",
       "    density + pH + sulphates, data = wine)\n",
       "\n",
       "Residuals:\n",
       "     Min       1Q   Median       3Q      Max \n",
       "-2.07175 -0.39267 -0.04056  0.35396  2.44365 \n",
       "\n",
       "Coefficients:\n",
       "                       Estimate Std. Error t value Pr(>|t|)    \n",
       "(Intercept)           6.072e+02  1.308e+01  46.419  < 2e-16 ***\n",
       "fixed.acidity         5.324e-01  2.064e-02  25.796  < 2e-16 ***\n",
       "volatile.acidity      3.608e-01  1.144e-01   3.154 0.001638 ** \n",
       "citric.acid           8.306e-01  1.379e-01   6.024 2.11e-09 ***\n",
       "residual.sugar        2.844e-01  1.229e-02  23.135  < 2e-16 ***\n",
       "chlorides            -1.462e+00  3.956e-01  -3.696 0.000227 ***\n",
       "free.sulfur.dioxide  -2.143e-03  2.057e-03  -1.042 0.297517    \n",
       "total.sulfur.dioxide -2.296e-03  6.881e-04  -3.336 0.000868 ***\n",
       "density              -6.174e+02  1.342e+01 -45.998  < 2e-16 ***\n",
       "pH                    3.762e+00  1.551e-01  24.263  < 2e-16 ***\n",
       "sulphates             1.247e+00  1.037e-01  12.020  < 2e-16 ***\n",
       "---\n",
       "Signif. codes:  0 ‘***’ 0.001 ‘**’ 0.01 ‘*’ 0.05 ‘.’ 0.1 ‘ ’ 1\n",
       "\n",
       "Residual standard error: 0.614 on 1588 degrees of freedom\n",
       "Multiple R-squared:  0.6701,\tAdjusted R-squared:  0.668 \n",
       "F-statistic: 322.5 on 10 and 1588 DF,  p-value: < 2.2e-16\n"
      ]
     },
     "metadata": {},
     "output_type": "display_data"
    }
   ],
   "source": [
    "summary(FitAll)"
   ]
  },
  {
   "cell_type": "markdown",
   "id": "08e7925c",
   "metadata": {},
   "source": [
    "# Backward Selection "
   ]
  },
  {
   "cell_type": "code",
   "execution_count": 6,
   "id": "5d7327b5",
   "metadata": {},
   "outputs": [
    {
     "name": "stdout",
     "output_type": "stream",
     "text": [
      "Start:  AIC=-1548.81\n",
      "alcohol ~ fixed.acidity + volatile.acidity + citric.acid + residual.sugar + \n",
      "    chlorides + free.sulfur.dioxide + total.sulfur.dioxide + \n",
      "    density + pH + sulphates\n",
      "\n",
      "                       Df Sum of Sq     RSS      AIC\n",
      "- free.sulfur.dioxide   1      0.41  599.11 -1549.71\n",
      "<none>                               598.70 -1548.81\n",
      "- volatile.acidity      1      3.75  602.45 -1540.82\n",
      "- total.sulfur.dioxide  1      4.20  602.90 -1539.64\n",
      "- chlorides             1      5.15  603.85 -1537.11\n",
      "- citric.acid           1     13.68  612.38 -1514.68\n",
      "- sulphates             1     54.47  653.18 -1411.56\n",
      "- residual.sugar        1    201.79  800.49 -1086.36\n",
      "- pH                    1    221.94  820.64 -1046.61\n",
      "- fixed.acidity         1    250.88  849.58  -991.19\n",
      "- density               1    797.70 1396.40  -196.63\n",
      "\n",
      "Step:  AIC=-1549.71\n",
      "alcohol ~ fixed.acidity + volatile.acidity + citric.acid + residual.sugar + \n",
      "    chlorides + total.sulfur.dioxide + density + pH + sulphates\n",
      "\n",
      "                       Df Sum of Sq     RSS      AIC\n",
      "<none>                               599.11 -1549.71\n",
      "- volatile.acidity      1      4.30  603.41 -1540.28\n",
      "- chlorides             1      5.35  604.46 -1537.50\n",
      "- total.sulfur.dioxide  1     11.06  610.17 -1522.46\n",
      "- citric.acid           1     14.91  614.02 -1512.40\n",
      "- sulphates             1     54.15  653.26 -1413.36\n",
      "- residual.sugar        1    202.90  802.01 -1085.32\n",
      "- pH                    1    223.90  823.02 -1043.99\n",
      "- fixed.acidity         1    251.86  850.97  -990.58\n",
      "- density               1    802.15 1401.26  -193.08\n"
     ]
    },
    {
     "data": {
      "text/plain": [
       "\n",
       "Call:\n",
       "lm(formula = alcohol ~ fixed.acidity + volatile.acidity + citric.acid + \n",
       "    residual.sugar + chlorides + total.sulfur.dioxide + density + \n",
       "    pH + sulphates, data = wine)\n",
       "\n",
       "Coefficients:\n",
       "         (Intercept)         fixed.acidity      volatile.acidity  \n",
       "           6.059e+02             5.300e-01             3.809e-01  \n",
       "         citric.acid        residual.sugar             chlorides  \n",
       "           8.548e-01             2.827e-01            -1.487e+00  \n",
       "total.sulfur.dioxide               density                    pH  \n",
       "          -2.775e-03            -6.160e+02             3.739e+00  \n",
       "           sulphates  \n",
       "           1.242e+00  \n"
      ]
     },
     "metadata": {},
     "output_type": "display_data"
    }
   ],
   "source": [
    "step(FitAll, direction = \"backward\")"
   ]
  },
  {
   "cell_type": "markdown",
   "id": "e8cf00f7",
   "metadata": {},
   "source": [
    "# of the variables that impact alcohol content all are impactful except for free sulfur dioxide "
   ]
  },
  {
   "cell_type": "markdown",
   "id": "cdd64757",
   "metadata": {},
   "source": [
    "# Forward Selection "
   ]
  },
  {
   "cell_type": "code",
   "execution_count": 8,
   "id": "fba84c35",
   "metadata": {},
   "outputs": [
    {
     "data": {
      "text/html": [
       "<table class=\"dataframe\">\n",
       "<caption>A data.frame: 6 × 12</caption>\n",
       "<thead>\n",
       "\t<tr><th></th><th scope=col>fixed.acidity</th><th scope=col>volatile.acidity</th><th scope=col>citric.acid</th><th scope=col>residual.sugar</th><th scope=col>chlorides</th><th scope=col>free.sulfur.dioxide</th><th scope=col>total.sulfur.dioxide</th><th scope=col>density</th><th scope=col>pH</th><th scope=col>sulphates</th><th scope=col>alcohol</th><th scope=col>quality</th></tr>\n",
       "\t<tr><th></th><th scope=col>&lt;dbl&gt;</th><th scope=col>&lt;dbl&gt;</th><th scope=col>&lt;dbl&gt;</th><th scope=col>&lt;dbl&gt;</th><th scope=col>&lt;dbl&gt;</th><th scope=col>&lt;dbl&gt;</th><th scope=col>&lt;dbl&gt;</th><th scope=col>&lt;dbl&gt;</th><th scope=col>&lt;dbl&gt;</th><th scope=col>&lt;dbl&gt;</th><th scope=col>&lt;dbl&gt;</th><th scope=col>&lt;int&gt;</th></tr>\n",
       "</thead>\n",
       "<tbody>\n",
       "\t<tr><th scope=row>1</th><td> 7.4</td><td>0.70</td><td>0.00</td><td>1.9</td><td>0.076</td><td>11</td><td>34</td><td>0.9978</td><td>3.51</td><td>0.56</td><td>9.4</td><td>5</td></tr>\n",
       "\t<tr><th scope=row>2</th><td> 7.8</td><td>0.88</td><td>0.00</td><td>2.6</td><td>0.098</td><td>25</td><td>67</td><td>0.9968</td><td>3.20</td><td>0.68</td><td>9.8</td><td>5</td></tr>\n",
       "\t<tr><th scope=row>3</th><td> 7.8</td><td>0.76</td><td>0.04</td><td>2.3</td><td>0.092</td><td>15</td><td>54</td><td>0.9970</td><td>3.26</td><td>0.65</td><td>9.8</td><td>5</td></tr>\n",
       "\t<tr><th scope=row>4</th><td>11.2</td><td>0.28</td><td>0.56</td><td>1.9</td><td>0.075</td><td>17</td><td>60</td><td>0.9980</td><td>3.16</td><td>0.58</td><td>9.8</td><td>6</td></tr>\n",
       "\t<tr><th scope=row>5</th><td> 7.4</td><td>0.70</td><td>0.00</td><td>1.9</td><td>0.076</td><td>11</td><td>34</td><td>0.9978</td><td>3.51</td><td>0.56</td><td>9.4</td><td>5</td></tr>\n",
       "\t<tr><th scope=row>6</th><td> 7.4</td><td>0.66</td><td>0.00</td><td>1.8</td><td>0.075</td><td>13</td><td>40</td><td>0.9978</td><td>3.51</td><td>0.56</td><td>9.4</td><td>5</td></tr>\n",
       "</tbody>\n",
       "</table>\n"
      ],
      "text/latex": [
       "A data.frame: 6 × 12\n",
       "\\begin{tabular}{r|llllllllllll}\n",
       "  & fixed.acidity & volatile.acidity & citric.acid & residual.sugar & chlorides & free.sulfur.dioxide & total.sulfur.dioxide & density & pH & sulphates & alcohol & quality\\\\\n",
       "  & <dbl> & <dbl> & <dbl> & <dbl> & <dbl> & <dbl> & <dbl> & <dbl> & <dbl> & <dbl> & <dbl> & <int>\\\\\n",
       "\\hline\n",
       "\t1 &  7.4 & 0.70 & 0.00 & 1.9 & 0.076 & 11 & 34 & 0.9978 & 3.51 & 0.56 & 9.4 & 5\\\\\n",
       "\t2 &  7.8 & 0.88 & 0.00 & 2.6 & 0.098 & 25 & 67 & 0.9968 & 3.20 & 0.68 & 9.8 & 5\\\\\n",
       "\t3 &  7.8 & 0.76 & 0.04 & 2.3 & 0.092 & 15 & 54 & 0.9970 & 3.26 & 0.65 & 9.8 & 5\\\\\n",
       "\t4 & 11.2 & 0.28 & 0.56 & 1.9 & 0.075 & 17 & 60 & 0.9980 & 3.16 & 0.58 & 9.8 & 6\\\\\n",
       "\t5 &  7.4 & 0.70 & 0.00 & 1.9 & 0.076 & 11 & 34 & 0.9978 & 3.51 & 0.56 & 9.4 & 5\\\\\n",
       "\t6 &  7.4 & 0.66 & 0.00 & 1.8 & 0.075 & 13 & 40 & 0.9978 & 3.51 & 0.56 & 9.4 & 5\\\\\n",
       "\\end{tabular}\n"
      ],
      "text/markdown": [
       "\n",
       "A data.frame: 6 × 12\n",
       "\n",
       "| <!--/--> | fixed.acidity &lt;dbl&gt; | volatile.acidity &lt;dbl&gt; | citric.acid &lt;dbl&gt; | residual.sugar &lt;dbl&gt; | chlorides &lt;dbl&gt; | free.sulfur.dioxide &lt;dbl&gt; | total.sulfur.dioxide &lt;dbl&gt; | density &lt;dbl&gt; | pH &lt;dbl&gt; | sulphates &lt;dbl&gt; | alcohol &lt;dbl&gt; | quality &lt;int&gt; |\n",
       "|---|---|---|---|---|---|---|---|---|---|---|---|---|\n",
       "| 1 |  7.4 | 0.70 | 0.00 | 1.9 | 0.076 | 11 | 34 | 0.9978 | 3.51 | 0.56 | 9.4 | 5 |\n",
       "| 2 |  7.8 | 0.88 | 0.00 | 2.6 | 0.098 | 25 | 67 | 0.9968 | 3.20 | 0.68 | 9.8 | 5 |\n",
       "| 3 |  7.8 | 0.76 | 0.04 | 2.3 | 0.092 | 15 | 54 | 0.9970 | 3.26 | 0.65 | 9.8 | 5 |\n",
       "| 4 | 11.2 | 0.28 | 0.56 | 1.9 | 0.075 | 17 | 60 | 0.9980 | 3.16 | 0.58 | 9.8 | 6 |\n",
       "| 5 |  7.4 | 0.70 | 0.00 | 1.9 | 0.076 | 11 | 34 | 0.9978 | 3.51 | 0.56 | 9.4 | 5 |\n",
       "| 6 |  7.4 | 0.66 | 0.00 | 1.8 | 0.075 | 13 | 40 | 0.9978 | 3.51 | 0.56 | 9.4 | 5 |\n",
       "\n"
      ],
      "text/plain": [
       "  fixed.acidity volatile.acidity citric.acid residual.sugar chlorides\n",
       "1  7.4          0.70             0.00        1.9            0.076    \n",
       "2  7.8          0.88             0.00        2.6            0.098    \n",
       "3  7.8          0.76             0.04        2.3            0.092    \n",
       "4 11.2          0.28             0.56        1.9            0.075    \n",
       "5  7.4          0.70             0.00        1.9            0.076    \n",
       "6  7.4          0.66             0.00        1.8            0.075    \n",
       "  free.sulfur.dioxide total.sulfur.dioxide density pH   sulphates alcohol\n",
       "1 11                  34                   0.9978  3.51 0.56      9.4    \n",
       "2 25                  67                   0.9968  3.20 0.68      9.8    \n",
       "3 15                  54                   0.9970  3.26 0.65      9.8    \n",
       "4 17                  60                   0.9980  3.16 0.58      9.8    \n",
       "5 11                  34                   0.9978  3.51 0.56      9.4    \n",
       "6 13                  40                   0.9978  3.51 0.56      9.4    \n",
       "  quality\n",
       "1 5      \n",
       "2 5      \n",
       "3 5      \n",
       "4 6      \n",
       "5 5      \n",
       "6 5      "
      ]
     },
     "metadata": {},
     "output_type": "display_data"
    }
   ],
   "source": [
    "FitStart = lm(alcohol ~ 1, data=wine)\n",
    "\n",
    "head(wine)"
   ]
  },
  {
   "cell_type": "code",
   "execution_count": 9,
   "id": "e1dcb25c",
   "metadata": {},
   "outputs": [
    {
     "data": {
      "text/plain": [
       "\n",
       "Call:\n",
       "lm(formula = alcohol ~ 1, data = wine)\n",
       "\n",
       "Residuals:\n",
       "   Min     1Q Median     3Q    Max \n",
       "-2.023 -0.923 -0.223  0.677  4.477 \n",
       "\n",
       "Coefficients:\n",
       "            Estimate Std. Error t value Pr(>|t|)    \n",
       "(Intercept) 10.42298    0.02665   391.1   <2e-16 ***\n",
       "---\n",
       "Signif. codes:  0 ‘***’ 0.001 ‘**’ 0.01 ‘*’ 0.05 ‘.’ 0.1 ‘ ’ 1\n",
       "\n",
       "Residual standard error: 1.066 on 1598 degrees of freedom\n"
      ]
     },
     "metadata": {},
     "output_type": "display_data"
    }
   ],
   "source": [
    "summary(FitStart)"
   ]
  },
  {
   "cell_type": "code",
   "execution_count": 10,
   "id": "21075d6e",
   "metadata": {},
   "outputs": [
    {
     "name": "stdout",
     "output_type": "stream",
     "text": [
      "Start:  AIC=204.4\n",
      "alcohol ~ 1\n",
      "\n",
      "                       Df Sum of Sq    RSS     AIC\n",
      "+ density               1    446.78 1368.0 -245.51\n",
      "+ chlorides             1     88.75 1726.0  126.22\n",
      "+ total.sulfur.dioxide  1     76.75 1738.0  137.30\n",
      "+ pH                    1     76.74 1738.0  137.31\n",
      "+ volatile.acidity      1     74.26 1740.5  139.59\n",
      "+ citric.acid           1     21.92 1792.8  186.97\n",
      "+ sulphates             1     15.90 1798.9  192.33\n",
      "+ free.sulfur.dioxide   1      8.74 1806.0  198.68\n",
      "+ fixed.acidity         1      6.90 1807.9  200.31\n",
      "+ residual.sugar        1      3.21 1811.5  203.56\n",
      "<none>                              1814.8  204.40\n",
      "\n",
      "Step:  AIC=-245.51\n",
      "alcohol ~ density\n",
      "\n",
      "                       Df Sum of Sq    RSS     AIC\n",
      "+ fixed.acidity         1   238.578 1129.4 -549.96\n",
      "+ citric.acid           1   177.267 1190.7 -465.43\n",
      "+ residual.sugar        1    99.030 1269.0 -363.67\n",
      "+ volatile.acidity      1    66.486 1301.5 -323.18\n",
      "+ total.sulfur.dioxide  1    52.895 1315.1 -306.57\n",
      "+ sulphates             1    51.927 1316.0 -305.39\n",
      "+ chlorides             1    27.955 1340.0 -276.53\n",
      "+ free.sulfur.dioxide   1    11.707 1356.3 -257.26\n",
      "+ pH                    1     2.676 1365.3 -246.64\n",
      "<none>                              1368.0 -245.51\n",
      "\n",
      "Step:  AIC=-549.96\n",
      "alcohol ~ density + fixed.acidity\n",
      "\n",
      "                       Df Sum of Sq     RSS     AIC\n",
      "+ pH                    1   236.291  893.11 -923.29\n",
      "+ residual.sugar        1   165.756  963.65 -801.75\n",
      "+ sulphates             1    30.061 1099.34 -591.09\n",
      "+ citric.acid           1    23.029 1106.37 -580.90\n",
      "+ chlorides             1    19.710 1109.69 -576.11\n",
      "+ total.sulfur.dioxide  1    16.179 1113.22 -571.03\n",
      "+ volatile.acidity      1     7.382 1122.02 -558.44\n",
      "<none>                              1129.40 -549.96\n",
      "+ free.sulfur.dioxide   1     0.294 1129.11 -548.37\n",
      "\n",
      "Step:  AIC=-923.29\n",
      "alcohol ~ density + fixed.acidity + pH\n",
      "\n",
      "                       Df Sum of Sq    RSS      AIC\n",
      "+ residual.sugar        1   209.207 683.90 -1348.06\n",
      "+ sulphates             1    52.067 841.04 -1017.34\n",
      "+ citric.acid           1    46.073 847.04 -1005.99\n",
      "+ volatile.acidity      1    10.124 882.99  -939.52\n",
      "<none>                              893.11  -923.29\n",
      "+ chlorides             1     0.422 892.69  -922.05\n",
      "+ free.sulfur.dioxide   1     0.343 892.77  -921.91\n",
      "+ total.sulfur.dioxide  1     0.031 893.08  -921.35\n",
      "\n",
      "Step:  AIC=-1348.06\n",
      "alcohol ~ density + fixed.acidity + pH + residual.sugar\n",
      "\n",
      "                       Df Sum of Sq    RSS     AIC\n",
      "+ sulphates             1    61.557 622.35 -1496.9\n",
      "+ citric.acid           1    21.722 662.18 -1397.7\n",
      "+ total.sulfur.dioxide  1     4.876 679.03 -1357.5\n",
      "+ volatile.acidity      1     4.465 679.44 -1356.5\n",
      "+ free.sulfur.dioxide   1     3.943 679.96 -1355.3\n",
      "+ chlorides             1     2.474 681.43 -1351.8\n",
      "<none>                              683.90 -1348.1\n",
      "\n",
      "Step:  AIC=-1496.87\n",
      "alcohol ~ density + fixed.acidity + pH + residual.sugar + sulphates\n",
      "\n",
      "                       Df Sum of Sq    RSS     AIC\n",
      "+ citric.acid           1    7.0099 615.34 -1513.0\n",
      "+ free.sulfur.dioxide   1    6.8814 615.47 -1512.7\n",
      "+ total.sulfur.dioxide  1    6.3462 616.00 -1511.3\n",
      "+ chlorides             1    1.4609 620.89 -1498.6\n",
      "<none>                              622.35 -1496.9\n",
      "+ volatile.acidity      1    0.0344 622.31 -1495.0\n",
      "\n",
      "Step:  AIC=-1512.99\n",
      "alcohol ~ density + fixed.acidity + pH + residual.sugar + sulphates + \n",
      "    citric.acid\n",
      "\n",
      "                       Df Sum of Sq    RSS     AIC\n",
      "+ total.sulfur.dioxide  1    8.5049 606.83 -1533.2\n",
      "+ free.sulfur.dioxide   1    7.1834 608.15 -1529.8\n",
      "+ chlorides             1    2.4425 612.89 -1517.3\n",
      "+ volatile.acidity      1    1.5048 613.83 -1514.9\n",
      "<none>                              615.34 -1513.0\n",
      "\n",
      "Step:  AIC=-1533.24\n",
      "alcohol ~ density + fixed.acidity + pH + residual.sugar + sulphates + \n",
      "    citric.acid + total.sulfur.dioxide\n",
      "\n",
      "                      Df Sum of Sq    RSS     AIC\n",
      "+ chlorides            1    3.4193 603.41 -1540.3\n",
      "+ volatile.acidity     1    2.3715 604.46 -1537.5\n",
      "+ free.sulfur.dioxide  1    1.0272 605.81 -1534.0\n",
      "<none>                             606.83 -1533.2\n",
      "\n",
      "Step:  AIC=-1540.28\n",
      "alcohol ~ density + fixed.acidity + pH + residual.sugar + sulphates + \n",
      "    citric.acid + total.sulfur.dioxide + chlorides\n",
      "\n",
      "                      Df Sum of Sq    RSS     AIC\n",
      "+ volatile.acidity     1    4.3008 599.11 -1549.7\n",
      "+ free.sulfur.dioxide  1    0.9587 602.45 -1540.8\n",
      "<none>                             603.41 -1540.3\n",
      "\n",
      "Step:  AIC=-1549.71\n",
      "alcohol ~ density + fixed.acidity + pH + residual.sugar + sulphates + \n",
      "    citric.acid + total.sulfur.dioxide + chlorides + volatile.acidity\n",
      "\n",
      "                      Df Sum of Sq    RSS     AIC\n",
      "<none>                             599.11 -1549.7\n",
      "+ free.sulfur.dioxide  1   0.40944 598.70 -1548.8\n"
     ]
    },
    {
     "data": {
      "text/plain": [
       "\n",
       "Call:\n",
       "lm(formula = alcohol ~ density + fixed.acidity + pH + residual.sugar + \n",
       "    sulphates + citric.acid + total.sulfur.dioxide + chlorides + \n",
       "    volatile.acidity, data = wine)\n",
       "\n",
       "Coefficients:\n",
       "         (Intercept)               density         fixed.acidity  \n",
       "           6.059e+02            -6.160e+02             5.300e-01  \n",
       "                  pH        residual.sugar             sulphates  \n",
       "           3.739e+00             2.827e-01             1.242e+00  \n",
       "         citric.acid  total.sulfur.dioxide             chlorides  \n",
       "           8.548e-01            -2.775e-03            -1.487e+00  \n",
       "    volatile.acidity  \n",
       "           3.809e-01  \n"
      ]
     },
     "metadata": {},
     "output_type": "display_data"
    }
   ],
   "source": [
    "step(FitStart, direction = \"forward\" , scope=formula(FitAll))"
   ]
  },
  {
   "cell_type": "markdown",
   "id": "b7fb7a54",
   "metadata": {},
   "source": [
    "# Forward Selection is also showing that adding in free sulfur dioxide has an adverse effect. Once again, all of the other variables have a direct impact except for free sulfur dioxide. "
   ]
  },
  {
   "cell_type": "markdown",
   "id": "a0917985",
   "metadata": {},
   "source": []
  }
 ],
 "metadata": {
  "kernelspec": {
   "display_name": "R",
   "language": "R",
   "name": "ir"
  },
  "language_info": {
   "codemirror_mode": "r",
   "file_extension": ".r",
   "mimetype": "text/x-r-source",
   "name": "R",
   "pygments_lexer": "r",
   "version": "4.2.0"
  }
 },
 "nbformat": 4,
 "nbformat_minor": 5
}
