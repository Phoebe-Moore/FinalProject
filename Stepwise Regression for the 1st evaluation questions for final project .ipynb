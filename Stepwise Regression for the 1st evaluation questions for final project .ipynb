{
 "cells": [
  {
   "cell_type": "code",
   "execution_count": 1,
   "id": "4719931f",
   "metadata": {},
   "outputs": [],
   "source": [
    "wine <- read.csv(\"/Users/phoebemoore/Desktop/winequality-red.csv\")"
   ]
  },
  {
   "cell_type": "code",
   "execution_count": 2,
   "id": "2bc149b7",
   "metadata": {},
   "outputs": [
    {
     "data": {
      "text/html": [
       "<table class=\"dataframe\">\n",
       "<caption>A data.frame: 6 × 12</caption>\n",
       "<thead>\n",
       "\t<tr><th></th><th scope=col>fixed.acidity</th><th scope=col>volatile.acidity</th><th scope=col>citric.acid</th><th scope=col>residual.sugar</th><th scope=col>chlorides</th><th scope=col>free.sulfur.dioxide</th><th scope=col>total.sulfur.dioxide</th><th scope=col>density</th><th scope=col>pH</th><th scope=col>sulphates</th><th scope=col>alcohol</th><th scope=col>quality</th></tr>\n",
       "\t<tr><th></th><th scope=col>&lt;dbl&gt;</th><th scope=col>&lt;dbl&gt;</th><th scope=col>&lt;dbl&gt;</th><th scope=col>&lt;dbl&gt;</th><th scope=col>&lt;dbl&gt;</th><th scope=col>&lt;dbl&gt;</th><th scope=col>&lt;dbl&gt;</th><th scope=col>&lt;dbl&gt;</th><th scope=col>&lt;dbl&gt;</th><th scope=col>&lt;dbl&gt;</th><th scope=col>&lt;dbl&gt;</th><th scope=col>&lt;int&gt;</th></tr>\n",
       "</thead>\n",
       "<tbody>\n",
       "\t<tr><th scope=row>1</th><td> 7.4</td><td>0.70</td><td>0.00</td><td>1.9</td><td>0.076</td><td>11</td><td>34</td><td>0.9978</td><td>3.51</td><td>0.56</td><td>9.4</td><td>5</td></tr>\n",
       "\t<tr><th scope=row>2</th><td> 7.8</td><td>0.88</td><td>0.00</td><td>2.6</td><td>0.098</td><td>25</td><td>67</td><td>0.9968</td><td>3.20</td><td>0.68</td><td>9.8</td><td>5</td></tr>\n",
       "\t<tr><th scope=row>3</th><td> 7.8</td><td>0.76</td><td>0.04</td><td>2.3</td><td>0.092</td><td>15</td><td>54</td><td>0.9970</td><td>3.26</td><td>0.65</td><td>9.8</td><td>5</td></tr>\n",
       "\t<tr><th scope=row>4</th><td>11.2</td><td>0.28</td><td>0.56</td><td>1.9</td><td>0.075</td><td>17</td><td>60</td><td>0.9980</td><td>3.16</td><td>0.58</td><td>9.8</td><td>6</td></tr>\n",
       "\t<tr><th scope=row>5</th><td> 7.4</td><td>0.70</td><td>0.00</td><td>1.9</td><td>0.076</td><td>11</td><td>34</td><td>0.9978</td><td>3.51</td><td>0.56</td><td>9.4</td><td>5</td></tr>\n",
       "\t<tr><th scope=row>6</th><td> 7.4</td><td>0.66</td><td>0.00</td><td>1.8</td><td>0.075</td><td>13</td><td>40</td><td>0.9978</td><td>3.51</td><td>0.56</td><td>9.4</td><td>5</td></tr>\n",
       "</tbody>\n",
       "</table>\n"
      ],
      "text/latex": [
       "A data.frame: 6 × 12\n",
       "\\begin{tabular}{r|llllllllllll}\n",
       "  & fixed.acidity & volatile.acidity & citric.acid & residual.sugar & chlorides & free.sulfur.dioxide & total.sulfur.dioxide & density & pH & sulphates & alcohol & quality\\\\\n",
       "  & <dbl> & <dbl> & <dbl> & <dbl> & <dbl> & <dbl> & <dbl> & <dbl> & <dbl> & <dbl> & <dbl> & <int>\\\\\n",
       "\\hline\n",
       "\t1 &  7.4 & 0.70 & 0.00 & 1.9 & 0.076 & 11 & 34 & 0.9978 & 3.51 & 0.56 & 9.4 & 5\\\\\n",
       "\t2 &  7.8 & 0.88 & 0.00 & 2.6 & 0.098 & 25 & 67 & 0.9968 & 3.20 & 0.68 & 9.8 & 5\\\\\n",
       "\t3 &  7.8 & 0.76 & 0.04 & 2.3 & 0.092 & 15 & 54 & 0.9970 & 3.26 & 0.65 & 9.8 & 5\\\\\n",
       "\t4 & 11.2 & 0.28 & 0.56 & 1.9 & 0.075 & 17 & 60 & 0.9980 & 3.16 & 0.58 & 9.8 & 6\\\\\n",
       "\t5 &  7.4 & 0.70 & 0.00 & 1.9 & 0.076 & 11 & 34 & 0.9978 & 3.51 & 0.56 & 9.4 & 5\\\\\n",
       "\t6 &  7.4 & 0.66 & 0.00 & 1.8 & 0.075 & 13 & 40 & 0.9978 & 3.51 & 0.56 & 9.4 & 5\\\\\n",
       "\\end{tabular}\n"
      ],
      "text/markdown": [
       "\n",
       "A data.frame: 6 × 12\n",
       "\n",
       "| <!--/--> | fixed.acidity &lt;dbl&gt; | volatile.acidity &lt;dbl&gt; | citric.acid &lt;dbl&gt; | residual.sugar &lt;dbl&gt; | chlorides &lt;dbl&gt; | free.sulfur.dioxide &lt;dbl&gt; | total.sulfur.dioxide &lt;dbl&gt; | density &lt;dbl&gt; | pH &lt;dbl&gt; | sulphates &lt;dbl&gt; | alcohol &lt;dbl&gt; | quality &lt;int&gt; |\n",
       "|---|---|---|---|---|---|---|---|---|---|---|---|---|\n",
       "| 1 |  7.4 | 0.70 | 0.00 | 1.9 | 0.076 | 11 | 34 | 0.9978 | 3.51 | 0.56 | 9.4 | 5 |\n",
       "| 2 |  7.8 | 0.88 | 0.00 | 2.6 | 0.098 | 25 | 67 | 0.9968 | 3.20 | 0.68 | 9.8 | 5 |\n",
       "| 3 |  7.8 | 0.76 | 0.04 | 2.3 | 0.092 | 15 | 54 | 0.9970 | 3.26 | 0.65 | 9.8 | 5 |\n",
       "| 4 | 11.2 | 0.28 | 0.56 | 1.9 | 0.075 | 17 | 60 | 0.9980 | 3.16 | 0.58 | 9.8 | 6 |\n",
       "| 5 |  7.4 | 0.70 | 0.00 | 1.9 | 0.076 | 11 | 34 | 0.9978 | 3.51 | 0.56 | 9.4 | 5 |\n",
       "| 6 |  7.4 | 0.66 | 0.00 | 1.8 | 0.075 | 13 | 40 | 0.9978 | 3.51 | 0.56 | 9.4 | 5 |\n",
       "\n"
      ],
      "text/plain": [
       "  fixed.acidity volatile.acidity citric.acid residual.sugar chlorides\n",
       "1  7.4          0.70             0.00        1.9            0.076    \n",
       "2  7.8          0.88             0.00        2.6            0.098    \n",
       "3  7.8          0.76             0.04        2.3            0.092    \n",
       "4 11.2          0.28             0.56        1.9            0.075    \n",
       "5  7.4          0.70             0.00        1.9            0.076    \n",
       "6  7.4          0.66             0.00        1.8            0.075    \n",
       "  free.sulfur.dioxide total.sulfur.dioxide density pH   sulphates alcohol\n",
       "1 11                  34                   0.9978  3.51 0.56      9.4    \n",
       "2 25                  67                   0.9968  3.20 0.68      9.8    \n",
       "3 15                  54                   0.9970  3.26 0.65      9.8    \n",
       "4 17                  60                   0.9980  3.16 0.58      9.8    \n",
       "5 11                  34                   0.9978  3.51 0.56      9.4    \n",
       "6 13                  40                   0.9978  3.51 0.56      9.4    \n",
       "  quality\n",
       "1 5      \n",
       "2 5      \n",
       "3 5      \n",
       "4 6      \n",
       "5 5      \n",
       "6 5      "
      ]
     },
     "metadata": {},
     "output_type": "display_data"
    }
   ],
   "source": [
    "head(wine)"
   ]
  },
  {
   "cell_type": "code",
   "execution_count": 3,
   "id": "ed54fa65",
   "metadata": {},
   "outputs": [],
   "source": [
    "FitAll = lm (quality ~ alcohol + fixed.acidity + volatile.acidity + citric.acid + residual.sugar + chlorides + free.sulfur.dioxide + total.sulfur.dioxide + density + pH + sulphates,data=wine)"
   ]
  },
  {
   "cell_type": "code",
   "execution_count": 4,
   "id": "40139ff1",
   "metadata": {},
   "outputs": [
    {
     "data": {
      "text/plain": [
       "\n",
       "Call:\n",
       "lm(formula = quality ~ alcohol + fixed.acidity + volatile.acidity + \n",
       "    citric.acid + residual.sugar + chlorides + free.sulfur.dioxide + \n",
       "    total.sulfur.dioxide + density + pH + sulphates, data = wine)\n",
       "\n",
       "Residuals:\n",
       "     Min       1Q   Median       3Q      Max \n",
       "-2.68911 -0.36652 -0.04699  0.45202  2.02498 \n",
       "\n",
       "Coefficients:\n",
       "                       Estimate Std. Error t value Pr(>|t|)    \n",
       "(Intercept)           2.197e+01  2.119e+01   1.036   0.3002    \n",
       "alcohol               2.762e-01  2.648e-02  10.429  < 2e-16 ***\n",
       "fixed.acidity         2.499e-02  2.595e-02   0.963   0.3357    \n",
       "volatile.acidity     -1.084e+00  1.211e-01  -8.948  < 2e-16 ***\n",
       "citric.acid          -1.826e-01  1.472e-01  -1.240   0.2150    \n",
       "residual.sugar        1.633e-02  1.500e-02   1.089   0.2765    \n",
       "chlorides            -1.874e+00  4.193e-01  -4.470 8.37e-06 ***\n",
       "free.sulfur.dioxide   4.361e-03  2.171e-03   2.009   0.0447 *  \n",
       "total.sulfur.dioxide -3.265e-03  7.287e-04  -4.480 8.00e-06 ***\n",
       "density              -1.788e+01  2.163e+01  -0.827   0.4086    \n",
       "pH                   -4.137e-01  1.916e-01  -2.159   0.0310 *  \n",
       "sulphates             9.163e-01  1.143e-01   8.014 2.13e-15 ***\n",
       "---\n",
       "Signif. codes:  0 ‘***’ 0.001 ‘**’ 0.01 ‘*’ 0.05 ‘.’ 0.1 ‘ ’ 1\n",
       "\n",
       "Residual standard error: 0.648 on 1587 degrees of freedom\n",
       "Multiple R-squared:  0.3606,\tAdjusted R-squared:  0.3561 \n",
       "F-statistic: 81.35 on 11 and 1587 DF,  p-value: < 2.2e-16\n"
      ]
     },
     "metadata": {},
     "output_type": "display_data"
    }
   ],
   "source": [
    "summary (FitAll)"
   ]
  },
  {
   "cell_type": "markdown",
   "id": "c401a417",
   "metadata": {},
   "source": [
    "# Backward Regression "
   ]
  },
  {
   "cell_type": "code",
   "execution_count": 5,
   "id": "8ad8c94e",
   "metadata": {},
   "outputs": [
    {
     "name": "stdout",
     "output_type": "stream",
     "text": [
      "Start:  AIC=-1375.49\n",
      "quality ~ alcohol + fixed.acidity + volatile.acidity + citric.acid + \n",
      "    residual.sugar + chlorides + free.sulfur.dioxide + total.sulfur.dioxide + \n",
      "    density + pH + sulphates\n",
      "\n",
      "                       Df Sum of Sq    RSS     AIC\n",
      "- density               1     0.287 666.70 -1376.8\n",
      "- fixed.acidity         1     0.389 666.80 -1376.5\n",
      "- residual.sugar        1     0.498 666.91 -1376.3\n",
      "- citric.acid           1     0.646 667.06 -1375.9\n",
      "<none>                              666.41 -1375.5\n",
      "- free.sulfur.dioxide   1     1.694 668.10 -1373.4\n",
      "- pH                    1     1.957 668.37 -1372.8\n",
      "- chlorides             1     8.391 674.80 -1357.5\n",
      "- total.sulfur.dioxide  1     8.427 674.84 -1357.4\n",
      "- sulphates             1    26.971 693.38 -1314.0\n",
      "- volatile.acidity      1    33.620 700.03 -1298.8\n",
      "- alcohol               1    45.672 712.08 -1271.5\n",
      "\n",
      "Step:  AIC=-1376.8\n",
      "quality ~ alcohol + fixed.acidity + volatile.acidity + citric.acid + \n",
      "    residual.sugar + chlorides + free.sulfur.dioxide + total.sulfur.dioxide + \n",
      "    pH + sulphates\n",
      "\n",
      "                       Df Sum of Sq    RSS     AIC\n",
      "- fixed.acidity         1     0.108 666.81 -1378.5\n",
      "- residual.sugar        1     0.231 666.93 -1378.2\n",
      "- citric.acid           1     0.654 667.35 -1377.2\n",
      "<none>                              666.70 -1376.8\n",
      "- free.sulfur.dioxide   1     1.829 668.53 -1374.4\n",
      "- pH                    1     4.325 671.02 -1368.5\n",
      "- total.sulfur.dioxide  1     8.728 675.43 -1358.0\n",
      "- chlorides             1     8.761 675.46 -1357.9\n",
      "- sulphates             1    27.287 693.98 -1314.7\n",
      "- volatile.acidity      1    35.000 701.70 -1297.0\n",
      "- alcohol               1   119.669 786.37 -1114.8\n",
      "\n",
      "Step:  AIC=-1378.54\n",
      "quality ~ alcohol + volatile.acidity + citric.acid + residual.sugar + \n",
      "    chlorides + free.sulfur.dioxide + total.sulfur.dioxide + \n",
      "    pH + sulphates\n",
      "\n",
      "                       Df Sum of Sq    RSS     AIC\n",
      "- residual.sugar        1     0.257 667.06 -1379.9\n",
      "- citric.acid           1     0.565 667.37 -1379.2\n",
      "<none>                              666.81 -1378.5\n",
      "- free.sulfur.dioxide   1     1.901 668.71 -1376.0\n",
      "- pH                    1     7.065 673.87 -1363.7\n",
      "- chlorides             1     9.940 676.75 -1356.9\n",
      "- total.sulfur.dioxide  1    10.031 676.84 -1356.7\n",
      "- sulphates             1    27.673 694.48 -1315.5\n",
      "- volatile.acidity      1    36.234 703.04 -1295.9\n",
      "- alcohol               1   120.633 787.44 -1114.7\n",
      "\n",
      "Step:  AIC=-1379.93\n",
      "quality ~ alcohol + volatile.acidity + citric.acid + chlorides + \n",
      "    free.sulfur.dioxide + total.sulfur.dioxide + pH + sulphates\n",
      "\n",
      "                       Df Sum of Sq    RSS     AIC\n",
      "- citric.acid           1     0.475 667.54 -1380.8\n",
      "<none>                              667.06 -1379.9\n",
      "- free.sulfur.dioxide   1     2.064 669.13 -1377.0\n",
      "- pH                    1     7.138 674.20 -1364.9\n",
      "- total.sulfur.dioxide  1     9.828 676.89 -1358.5\n",
      "- chlorides             1     9.832 676.89 -1358.5\n",
      "- sulphates             1    27.446 694.51 -1317.5\n",
      "- volatile.acidity      1    35.977 703.04 -1297.9\n",
      "- alcohol               1   122.667 789.73 -1112.0\n",
      "\n",
      "Step:  AIC=-1380.79\n",
      "quality ~ alcohol + volatile.acidity + chlorides + free.sulfur.dioxide + \n",
      "    total.sulfur.dioxide + pH + sulphates\n",
      "\n",
      "                       Df Sum of Sq    RSS     AIC\n",
      "<none>                              667.54 -1380.8\n",
      "- free.sulfur.dioxide   1     2.394 669.93 -1377.1\n",
      "- pH                    1     7.073 674.61 -1365.9\n",
      "- total.sulfur.dioxide  1    10.787 678.32 -1357.2\n",
      "- chlorides             1    10.809 678.35 -1357.1\n",
      "- sulphates             1    27.060 694.60 -1319.2\n",
      "- volatile.acidity      1    42.318 709.85 -1284.5\n",
      "- alcohol               1   124.483 792.02 -1109.4\n"
     ]
    },
    {
     "data": {
      "text/plain": [
       "\n",
       "Call:\n",
       "lm(formula = quality ~ alcohol + volatile.acidity + chlorides + \n",
       "    free.sulfur.dioxide + total.sulfur.dioxide + pH + sulphates, \n",
       "    data = wine)\n",
       "\n",
       "Coefficients:\n",
       "         (Intercept)               alcohol      volatile.acidity  \n",
       "            4.430099              0.289303             -1.012753  \n",
       "           chlorides   free.sulfur.dioxide  total.sulfur.dioxide  \n",
       "           -2.017814              0.005077             -0.003482  \n",
       "                  pH             sulphates  \n",
       "           -0.482661              0.882665  \n"
      ]
     },
     "metadata": {},
     "output_type": "display_data"
    }
   ],
   "source": [
    "step(FitAll, direction = \"backward\")"
   ]
  },
  {
   "cell_type": "markdown",
   "id": "16e6aed0",
   "metadata": {},
   "source": [
    "# the variables that impact the quality of the wine is : free sulfur dioxide , pH, total sulfur dioxide, chlorides, sulphates, volatile acidity, and alcohol content "
   ]
  },
  {
   "cell_type": "markdown",
   "id": "9b0f5d2b",
   "metadata": {},
   "source": [
    "# Forward Selection "
   ]
  },
  {
   "cell_type": "code",
   "execution_count": 6,
   "id": "571dd015",
   "metadata": {},
   "outputs": [
    {
     "data": {
      "text/html": [
       "<table class=\"dataframe\">\n",
       "<caption>A data.frame: 6 × 12</caption>\n",
       "<thead>\n",
       "\t<tr><th></th><th scope=col>fixed.acidity</th><th scope=col>volatile.acidity</th><th scope=col>citric.acid</th><th scope=col>residual.sugar</th><th scope=col>chlorides</th><th scope=col>free.sulfur.dioxide</th><th scope=col>total.sulfur.dioxide</th><th scope=col>density</th><th scope=col>pH</th><th scope=col>sulphates</th><th scope=col>alcohol</th><th scope=col>quality</th></tr>\n",
       "\t<tr><th></th><th scope=col>&lt;dbl&gt;</th><th scope=col>&lt;dbl&gt;</th><th scope=col>&lt;dbl&gt;</th><th scope=col>&lt;dbl&gt;</th><th scope=col>&lt;dbl&gt;</th><th scope=col>&lt;dbl&gt;</th><th scope=col>&lt;dbl&gt;</th><th scope=col>&lt;dbl&gt;</th><th scope=col>&lt;dbl&gt;</th><th scope=col>&lt;dbl&gt;</th><th scope=col>&lt;dbl&gt;</th><th scope=col>&lt;int&gt;</th></tr>\n",
       "</thead>\n",
       "<tbody>\n",
       "\t<tr><th scope=row>1</th><td> 7.4</td><td>0.70</td><td>0.00</td><td>1.9</td><td>0.076</td><td>11</td><td>34</td><td>0.9978</td><td>3.51</td><td>0.56</td><td>9.4</td><td>5</td></tr>\n",
       "\t<tr><th scope=row>2</th><td> 7.8</td><td>0.88</td><td>0.00</td><td>2.6</td><td>0.098</td><td>25</td><td>67</td><td>0.9968</td><td>3.20</td><td>0.68</td><td>9.8</td><td>5</td></tr>\n",
       "\t<tr><th scope=row>3</th><td> 7.8</td><td>0.76</td><td>0.04</td><td>2.3</td><td>0.092</td><td>15</td><td>54</td><td>0.9970</td><td>3.26</td><td>0.65</td><td>9.8</td><td>5</td></tr>\n",
       "\t<tr><th scope=row>4</th><td>11.2</td><td>0.28</td><td>0.56</td><td>1.9</td><td>0.075</td><td>17</td><td>60</td><td>0.9980</td><td>3.16</td><td>0.58</td><td>9.8</td><td>6</td></tr>\n",
       "\t<tr><th scope=row>5</th><td> 7.4</td><td>0.70</td><td>0.00</td><td>1.9</td><td>0.076</td><td>11</td><td>34</td><td>0.9978</td><td>3.51</td><td>0.56</td><td>9.4</td><td>5</td></tr>\n",
       "\t<tr><th scope=row>6</th><td> 7.4</td><td>0.66</td><td>0.00</td><td>1.8</td><td>0.075</td><td>13</td><td>40</td><td>0.9978</td><td>3.51</td><td>0.56</td><td>9.4</td><td>5</td></tr>\n",
       "</tbody>\n",
       "</table>\n"
      ],
      "text/latex": [
       "A data.frame: 6 × 12\n",
       "\\begin{tabular}{r|llllllllllll}\n",
       "  & fixed.acidity & volatile.acidity & citric.acid & residual.sugar & chlorides & free.sulfur.dioxide & total.sulfur.dioxide & density & pH & sulphates & alcohol & quality\\\\\n",
       "  & <dbl> & <dbl> & <dbl> & <dbl> & <dbl> & <dbl> & <dbl> & <dbl> & <dbl> & <dbl> & <dbl> & <int>\\\\\n",
       "\\hline\n",
       "\t1 &  7.4 & 0.70 & 0.00 & 1.9 & 0.076 & 11 & 34 & 0.9978 & 3.51 & 0.56 & 9.4 & 5\\\\\n",
       "\t2 &  7.8 & 0.88 & 0.00 & 2.6 & 0.098 & 25 & 67 & 0.9968 & 3.20 & 0.68 & 9.8 & 5\\\\\n",
       "\t3 &  7.8 & 0.76 & 0.04 & 2.3 & 0.092 & 15 & 54 & 0.9970 & 3.26 & 0.65 & 9.8 & 5\\\\\n",
       "\t4 & 11.2 & 0.28 & 0.56 & 1.9 & 0.075 & 17 & 60 & 0.9980 & 3.16 & 0.58 & 9.8 & 6\\\\\n",
       "\t5 &  7.4 & 0.70 & 0.00 & 1.9 & 0.076 & 11 & 34 & 0.9978 & 3.51 & 0.56 & 9.4 & 5\\\\\n",
       "\t6 &  7.4 & 0.66 & 0.00 & 1.8 & 0.075 & 13 & 40 & 0.9978 & 3.51 & 0.56 & 9.4 & 5\\\\\n",
       "\\end{tabular}\n"
      ],
      "text/markdown": [
       "\n",
       "A data.frame: 6 × 12\n",
       "\n",
       "| <!--/--> | fixed.acidity &lt;dbl&gt; | volatile.acidity &lt;dbl&gt; | citric.acid &lt;dbl&gt; | residual.sugar &lt;dbl&gt; | chlorides &lt;dbl&gt; | free.sulfur.dioxide &lt;dbl&gt; | total.sulfur.dioxide &lt;dbl&gt; | density &lt;dbl&gt; | pH &lt;dbl&gt; | sulphates &lt;dbl&gt; | alcohol &lt;dbl&gt; | quality &lt;int&gt; |\n",
       "|---|---|---|---|---|---|---|---|---|---|---|---|---|\n",
       "| 1 |  7.4 | 0.70 | 0.00 | 1.9 | 0.076 | 11 | 34 | 0.9978 | 3.51 | 0.56 | 9.4 | 5 |\n",
       "| 2 |  7.8 | 0.88 | 0.00 | 2.6 | 0.098 | 25 | 67 | 0.9968 | 3.20 | 0.68 | 9.8 | 5 |\n",
       "| 3 |  7.8 | 0.76 | 0.04 | 2.3 | 0.092 | 15 | 54 | 0.9970 | 3.26 | 0.65 | 9.8 | 5 |\n",
       "| 4 | 11.2 | 0.28 | 0.56 | 1.9 | 0.075 | 17 | 60 | 0.9980 | 3.16 | 0.58 | 9.8 | 6 |\n",
       "| 5 |  7.4 | 0.70 | 0.00 | 1.9 | 0.076 | 11 | 34 | 0.9978 | 3.51 | 0.56 | 9.4 | 5 |\n",
       "| 6 |  7.4 | 0.66 | 0.00 | 1.8 | 0.075 | 13 | 40 | 0.9978 | 3.51 | 0.56 | 9.4 | 5 |\n",
       "\n"
      ],
      "text/plain": [
       "  fixed.acidity volatile.acidity citric.acid residual.sugar chlorides\n",
       "1  7.4          0.70             0.00        1.9            0.076    \n",
       "2  7.8          0.88             0.00        2.6            0.098    \n",
       "3  7.8          0.76             0.04        2.3            0.092    \n",
       "4 11.2          0.28             0.56        1.9            0.075    \n",
       "5  7.4          0.70             0.00        1.9            0.076    \n",
       "6  7.4          0.66             0.00        1.8            0.075    \n",
       "  free.sulfur.dioxide total.sulfur.dioxide density pH   sulphates alcohol\n",
       "1 11                  34                   0.9978  3.51 0.56      9.4    \n",
       "2 25                  67                   0.9968  3.20 0.68      9.8    \n",
       "3 15                  54                   0.9970  3.26 0.65      9.8    \n",
       "4 17                  60                   0.9980  3.16 0.58      9.8    \n",
       "5 11                  34                   0.9978  3.51 0.56      9.4    \n",
       "6 13                  40                   0.9978  3.51 0.56      9.4    \n",
       "  quality\n",
       "1 5      \n",
       "2 5      \n",
       "3 5      \n",
       "4 6      \n",
       "5 5      \n",
       "6 5      "
      ]
     },
     "metadata": {},
     "output_type": "display_data"
    }
   ],
   "source": [
    "FitStart = lm(quality ~ 1, data=wine)\n",
    "\n",
    "head(wine)"
   ]
  },
  {
   "cell_type": "code",
   "execution_count": 7,
   "id": "d2001359",
   "metadata": {},
   "outputs": [
    {
     "data": {
      "text/plain": [
       "\n",
       "Call:\n",
       "lm(formula = quality ~ 1, data = wine)\n",
       "\n",
       "Residuals:\n",
       "   Min     1Q Median     3Q    Max \n",
       "-2.636 -0.636  0.364  0.364  2.364 \n",
       "\n",
       "Coefficients:\n",
       "            Estimate Std. Error t value Pr(>|t|)    \n",
       "(Intercept)   5.6360     0.0202   279.1   <2e-16 ***\n",
       "---\n",
       "Signif. codes:  0 ‘***’ 0.001 ‘**’ 0.01 ‘*’ 0.05 ‘.’ 0.1 ‘ ’ 1\n",
       "\n",
       "Residual standard error: 0.8076 on 1598 degrees of freedom\n"
      ]
     },
     "metadata": {},
     "output_type": "display_data"
    }
   ],
   "source": [
    "summary(FitStart)"
   ]
  },
  {
   "cell_type": "code",
   "execution_count": 8,
   "id": "46635411",
   "metadata": {},
   "outputs": [
    {
     "name": "stdout",
     "output_type": "stream",
     "text": [
      "Start:  AIC=-682.5\n",
      "quality ~ 1\n",
      "\n",
      "                       Df Sum of Sq     RSS      AIC\n",
      "+ alcohol               1   236.295  805.87 -1091.65\n",
      "+ volatile.acidity      1   158.967  883.20  -945.14\n",
      "+ sulphates             1    65.865  976.30  -784.89\n",
      "+ citric.acid           1    53.405  988.76  -764.61\n",
      "+ total.sulfur.dioxide  1    35.707 1006.46  -736.24\n",
      "+ density               1    31.887 1010.28  -730.19\n",
      "+ chlorides             1    17.318 1024.85  -707.29\n",
      "+ fixed.acidity         1    16.038 1026.13  -705.29\n",
      "+ pH                    1     3.473 1038.69  -685.84\n",
      "+ free.sulfur.dioxide   1     2.674 1039.49  -684.61\n",
      "<none>                              1042.17  -682.50\n",
      "+ residual.sugar        1     0.197 1041.97  -680.80\n",
      "\n",
      "Step:  AIC=-1091.65\n",
      "quality ~ alcohol\n",
      "\n",
      "                       Df Sum of Sq    RSS     AIC\n",
      "+ volatile.acidity      1    94.074 711.80 -1288.1\n",
      "+ sulphates             1    44.977 760.89 -1181.5\n",
      "+ citric.acid           1    31.953 773.92 -1154.3\n",
      "+ pH                    1    26.362 779.51 -1142.8\n",
      "+ fixed.acidity         1    24.623 781.25 -1139.3\n",
      "+ total.sulfur.dioxide  1     8.270 797.60 -1106.2\n",
      "+ density               1     5.203 800.67 -1100.0\n",
      "<none>                              805.87 -1091.7\n",
      "+ chlorides             1     0.611 805.26 -1090.9\n",
      "+ free.sulfur.dioxide   1     0.325 805.55 -1090.3\n",
      "+ residual.sugar        1     0.041 805.83 -1089.7\n",
      "\n",
      "Step:  AIC=-1288.14\n",
      "quality ~ alcohol + volatile.acidity\n",
      "\n",
      "                       Df Sum of Sq    RSS     AIC\n",
      "+ sulphates             1   19.6916 692.10 -1331.0\n",
      "+ total.sulfur.dioxide  1    6.3730 705.42 -1300.5\n",
      "+ pH                    1    5.9515 705.84 -1299.6\n",
      "+ fixed.acidity         1    5.7061 706.09 -1299.0\n",
      "+ density               1    1.9410 709.86 -1290.5\n",
      "<none>                              711.80 -1288.1\n",
      "+ free.sulfur.dioxide   1    0.6621 711.13 -1287.6\n",
      "+ chlorides             1    0.3762 711.42 -1287.0\n",
      "+ citric.acid           1    0.1936 711.60 -1286.6\n",
      "+ residual.sugar        1    0.0101 711.79 -1286.2\n",
      "\n",
      "Step:  AIC=-1331\n",
      "quality ~ alcohol + volatile.acidity + sulphates\n",
      "\n",
      "                       Df Sum of Sq    RSS     AIC\n",
      "+ total.sulfur.dioxide  1    8.2176 683.89 -1348.1\n",
      "+ chlorides             1    7.4925 684.61 -1346.4\n",
      "+ fixed.acidity         1    3.3282 688.78 -1336.7\n",
      "+ pH                    1    3.0454 689.06 -1336.0\n",
      "+ free.sulfur.dioxide   1    1.1129 690.99 -1331.6\n",
      "<none>                              692.10 -1331.0\n",
      "+ citric.acid           1    0.2522 691.85 -1329.6\n",
      "+ density               1    0.2222 691.88 -1329.5\n",
      "+ residual.sugar        1    0.0143 692.09 -1329.0\n",
      "\n",
      "Step:  AIC=-1348.1\n",
      "quality ~ alcohol + volatile.acidity + sulphates + total.sulfur.dioxide\n",
      "\n",
      "                      Df Sum of Sq    RSS     AIC\n",
      "+ chlorides            1    8.0370 675.85 -1365.0\n",
      "+ pH                   1    3.3094 680.58 -1353.8\n",
      "+ fixed.acidity        1    2.1037 681.78 -1351.0\n",
      "+ free.sulfur.dioxide  1    1.3557 682.53 -1349.3\n",
      "<none>                             683.89 -1348.1\n",
      "+ residual.sugar       1    0.2634 683.62 -1346.7\n",
      "+ density              1    0.1077 683.78 -1346.3\n",
      "+ citric.acid          1    0.0730 683.81 -1346.3\n",
      "\n",
      "Step:  AIC=-1365\n",
      "quality ~ alcohol + volatile.acidity + sulphates + total.sulfur.dioxide + \n",
      "    chlorides\n",
      "\n",
      "                      Df Sum of Sq    RSS     AIC\n",
      "+ pH                   1    5.9189 669.93 -1377.1\n",
      "+ fixed.acidity        1    2.4065 673.44 -1368.7\n",
      "+ free.sulfur.dioxide  1    1.2403 674.61 -1365.9\n",
      "<none>                             675.85 -1365.0\n",
      "+ residual.sugar       1    0.5531 675.30 -1364.3\n",
      "+ citric.acid          1    0.1615 675.69 -1363.4\n",
      "+ density              1    0.1526 675.70 -1363.4\n",
      "\n",
      "Step:  AIC=-1377.06\n",
      "quality ~ alcohol + volatile.acidity + sulphates + total.sulfur.dioxide + \n",
      "    chlorides + pH\n",
      "\n",
      "                      Df Sum of Sq    RSS     AIC\n",
      "+ free.sulfur.dioxide  1   2.39413 667.54 -1380.8\n",
      "<none>                             669.93 -1377.1\n",
      "+ citric.acid          1   0.80525 669.13 -1377.0\n",
      "+ residual.sugar       1   0.28390 669.65 -1375.7\n",
      "+ density              1   0.04468 669.89 -1375.2\n",
      "+ fixed.acidity        1   0.01040 669.92 -1375.1\n",
      "\n",
      "Step:  AIC=-1380.79\n",
      "quality ~ alcohol + volatile.acidity + sulphates + total.sulfur.dioxide + \n",
      "    chlorides + pH + free.sulfur.dioxide\n",
      "\n",
      "                 Df Sum of Sq    RSS     AIC\n",
      "<none>                        667.54 -1380.8\n",
      "+ citric.acid     1   0.47480 667.06 -1379.9\n",
      "+ residual.sugar  1   0.16673 667.37 -1379.2\n",
      "+ density         1   0.03079 667.51 -1378.9\n",
      "+ fixed.acidity   1   0.00663 667.53 -1378.8\n"
     ]
    },
    {
     "data": {
      "text/plain": [
       "\n",
       "Call:\n",
       "lm(formula = quality ~ alcohol + volatile.acidity + sulphates + \n",
       "    total.sulfur.dioxide + chlorides + pH + free.sulfur.dioxide, \n",
       "    data = wine)\n",
       "\n",
       "Coefficients:\n",
       "         (Intercept)               alcohol      volatile.acidity  \n",
       "            4.430099              0.289303             -1.012753  \n",
       "           sulphates  total.sulfur.dioxide             chlorides  \n",
       "            0.882665             -0.003482             -2.017814  \n",
       "                  pH   free.sulfur.dioxide  \n",
       "           -0.482661              0.005077  \n"
      ]
     },
     "metadata": {},
     "output_type": "display_data"
    }
   ],
   "source": [
    "step(FitStart, direction = \"forward\" , scope=formula(FitAll))"
   ]
  },
  {
   "cell_type": "markdown",
   "id": "15bf8287",
   "metadata": {},
   "source": [
    "# the forward selection outcome is the same as the backward where the the variables that impact the quality of the wine is : free sulfur dioxide , pH, total sulfur dioxide, chlorides, sulphates, volatile acidity, and alcohol content"
   ]
  },
  {
   "cell_type": "code",
   "execution_count": null,
   "id": "d055ac3a",
   "metadata": {},
   "outputs": [],
   "source": []
  }
 ],
 "metadata": {
  "kernelspec": {
   "display_name": "R",
   "language": "R",
   "name": "ir"
  },
  "language_info": {
   "codemirror_mode": "r",
   "file_extension": ".r",
   "mimetype": "text/x-r-source",
   "name": "R",
   "pygments_lexer": "r",
   "version": "4.2.0"
  }
 },
 "nbformat": 4,
 "nbformat_minor": 5
}
